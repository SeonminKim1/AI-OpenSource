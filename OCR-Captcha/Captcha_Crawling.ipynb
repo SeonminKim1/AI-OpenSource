{
 "cells": [
  {
   "cell_type": "markdown",
   "id": "c648b703",
   "metadata": {},
   "source": [
    "## Captcha Crawling\n",
    "- giro 사이트 Captcha의 Image 크롤링 및 저장\n",
    "\n",
    "## Preparation\n",
    "\n",
    "```\n",
    "mkdir giro_dataset/\n",
    "```"
   ]
  },
  {
   "cell_type": "code",
   "execution_count": 2,
   "id": "497a8459",
   "metadata": {},
   "outputs": [
    {
     "name": "stdout",
     "output_type": "stream",
     "text": [
      "0 저장 데이터 수집 완료\n"
     ]
    }
   ],
   "source": [
    "from urllib import request\n",
    "\n",
    "# 원하는 장 수\n",
    "num = 4\n",
    "\n",
    "for i in range(num):\n",
    "    url = \"https://www.giro.or.kr/common/captcha/getCaptchaImg.do?rand=\" + str(i)\n",
    "    savename = \"giro_dataset/giro_\"+str(i) + '.png'\n",
    "    request.urlretrieve(url,savename)\n",
    "    if i%100==0:\n",
    "        print(i, '저장', end=' ')\n",
    "print('데이터 수집 완료')"
   ]
  }
 ],
 "metadata": {
  "kernelspec": {
   "display_name": "Python 3",
   "language": "python",
   "name": "python3"
  },
  "language_info": {
   "codemirror_mode": {
    "name": "ipython",
    "version": 3
   },
   "file_extension": ".py",
   "mimetype": "text/x-python",
   "name": "python",
   "nbconvert_exporter": "python",
   "pygments_lexer": "ipython3",
   "version": "3.8.5"
  }
 },
 "nbformat": 4,
 "nbformat_minor": 5
}
