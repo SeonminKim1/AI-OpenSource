{
 "cells": [
  {
   "cell_type": "markdown",
   "metadata": {},
   "source": [
    "### Naver API Sentiment Analaysis\n",
    "- 참고 : \n",
    "  - https://api.ncloud-docs.com/docs/ai-naver-clovasentiment-api\n",
    "  - https://guide.ncloud-docs.com/docs/ko/naveropenapiv3-application :Application 사용 가이드"
   ]
  },
  {
   "cell_type": "code",
   "execution_count": 40,
   "metadata": {},
   "outputs": [],
   "source": [
    "import json\n",
    "import requests\n",
    "import pandas as pd\n",
    "\n",
    "url = 'https://naveropenapi.apigw.ntruss.com/sentiment-analysis/v1/analyze'\n",
    "keyid = \"<your-key-id>\"\n",
    "key = \"<your-key>\"\n",
    "\n",
    "# Header\n",
    "headers = {\n",
    "    \"X-NCP-APIGW-API-KEY-ID\":keyid,\n",
    "    \"X-NCP-APIGW-API-KEY\":key,\n",
    "    \"Content-Type\":\"application/json\"\n",
    "}\n",
    "\n",
    "def naver_sentiment_api(text):\n",
    "    # Data\n",
    "    data = {\"content\": text}\n",
    "    try:\n",
    "        res = requests.post(url, data = json.dumps(data), headers = headers)\n",
    "        print(res, end=' ')\n",
    "        result = res.json()\n",
    "        return [result['document']['sentiment'], result['document']['confidence']]\n",
    "    except:\n",
    "        conf_dict = { 'negative':0, 'positive': 0, 'neutral':0}\n",
    "        return ['Data is invalid', conf_dict]"
   ]
  }
 ],
 "metadata": {
  "kernelspec": {
   "display_name": "Python 3",
   "language": "python",
   "name": "python3"
  },
  "language_info": {
   "codemirror_mode": {
    "name": "ipython",
    "version": 3
   },
   "file_extension": ".py",
   "mimetype": "text/x-python",
   "name": "python",
   "nbconvert_exporter": "python",
   "pygments_lexer": "ipython3",
   "version": "3.8.5"
  }
 },
 "nbformat": 4,
 "nbformat_minor": 2
}
