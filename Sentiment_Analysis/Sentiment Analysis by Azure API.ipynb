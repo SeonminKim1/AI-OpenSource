{
 "cells": [
  {
   "cell_type": "markdown",
   "id": "1cb674a1",
   "metadata": {},
   "source": [
    "## "
   ]
  },
  {
   "cell_type": "markdown",
   "id": "f14035f5",
   "metadata": {},
   "source": [
    "### Azure API Sentiment Analysis"
   ]
  },
  {
   "cell_type": "code",
   "execution_count": 2,
   "id": "72f0f177",
   "metadata": {},
   "outputs": [
    {
     "name": "stdout",
     "output_type": "stream",
     "text": [
      "<azure.ai.textanalytics._text_analytics_client.TextAnalyticsClient object at 0x000001F120C119D0>\n"
     ]
    }
   ],
   "source": [
    "# use this code if you're using SDK version is 5.0.0\n",
    "from azure.ai.textanalytics import TextAnalyticsClient\n",
    "from azure.core.credentials import AzureKeyCredential\n",
    "\n",
    "# Set Azure Authentication\n",
    "def authenticate_client(k, e):\n",
    "    key, endpoint = k, e \n",
    "    ta_credential = AzureKeyCredential(key)\n",
    "    text_analytics_client = TextAnalyticsClient(\n",
    "            endpoint=endpoint, \n",
    "            credential=ta_credential) \n",
    "    return text_analytics_client\n",
    "\n",
    "# set azure key, endpoint\n",
    "# key, endpoint = '', '' # <Azure Key>, <Azure endpoint>\n",
    "key, endpoint = '<your-key>', '<your-endpoint>'\n",
    "\n",
    "client = authenticate_client(key, endpoint)\n",
    "print(client)"
   ]
  },
  {
   "cell_type": "code",
   "execution_count": 3,
   "id": "7159f977",
   "metadata": {},
   "outputs": [],
   "source": [
    "import pandas as pd\n",
    "import re\n",
    "\n",
    "# 1. load excel\n",
    "def load_excel(f_path):\n",
    "    data = pd.read_excel(f_path)\n",
    "    data = data[['댓글 작성자','댓글 작성 내용']]\n",
    "    return data\n",
    "\n",
    "# 2. PreProcessing Module\n",
    "# user_tag, emoji 삭제\n",
    "def preprocessing(text):\n",
    "    # user_tag, emoji 삭제\n",
    "    pattern_user_tag = re.compile(\"@[a-z0-9_.]*\") \n",
    "    pattern_EMOJI = re.compile('[\\U00010000-\\U0010ffff]', flags=re.UNICODE)\n",
    "    text = pattern_EMOJI.sub(r'', text, 100) # user_tag 제거\n",
    "    text = pattern_user_tag.sub(r'', text, 100) # emoji 제거\n",
    "    return text  \n",
    "\n",
    "# 3. 감성 분석\n",
    "def sentiment_analysis_example(text):\n",
    "    try:\n",
    "        response = client.analyze_sentiment(documents = [text], language='ko')[0]\n",
    "        conf_list = [('positive',response.confidence_scores.positive), ('neutral',response.confidence_scores.neutral), ('negative', response.confidence_scores.negative)]\n",
    "        return [response.sentiment, conf_list]\n",
    "    except:\n",
    "        conf_list = [('positive', 0), ('neutral', 0), ('negative', 0)]\n",
    "        return ['Data is invalid', conf_list]\n",
    "    \n",
    "# 4. Data 확인\n",
    "for f_path, f_name in zip(f_paths, f_names):\n",
    "    data = load_excel(f_path)\n",
    "    print(data.head())"
   ]
  }
 ],
 "metadata": {
  "kernelspec": {
   "display_name": "Python 3",
   "language": "python",
   "name": "python3"
  },
  "language_info": {
   "codemirror_mode": {
    "name": "ipython",
    "version": 3
   },
   "file_extension": ".py",
   "mimetype": "text/x-python",
   "name": "python",
   "nbconvert_exporter": "python",
   "pygments_lexer": "ipython3",
   "version": "3.8.5"
  }
 },
 "nbformat": 4,
 "nbformat_minor": 5
}
