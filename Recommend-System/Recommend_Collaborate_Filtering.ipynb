{
  "nbformat": 4,
  "nbformat_minor": 0,
  "metadata": {
    "colab": {
      "name": "협업 필터링",
      "provenance": [],
      "private_outputs": true,
      "collapsed_sections": []
    },
    "kernelspec": {
      "name": "python3",
      "display_name": "Python 3"
    }
  },
  "cells": [
    {
      "cell_type": "code",
      "metadata": {
        "id": "EMXOzSAGWb7e"
      },
      "source": [
        "import pandas as pd\n",
        "import numpy as np"
      ],
      "execution_count": null,
      "outputs": []
    },
    {
      "cell_type": "code",
      "metadata": {
        "id": "OlKRtlSiI-Tb"
      },
      "source": [
        "ratings = pd.read_csv('ratings.csv')\n",
        "movies = pd.read_csv('movies.csv')\n",
        "\n",
        "# 데이터프레임을 출력했을때 더 많은 열이 보이도록 함\n",
        "pd.set_option('display.max_columns', 10)\n",
        "pd.set_option('display.width', 300)\n",
        "# movieId를 기준으로 ratings 와 movies 를 결합함\n",
        "movie_ratings = pd.merge(ratings, movies, on='movieId')\n",
        "print(movie_ratings)"
      ],
      "execution_count": null,
      "outputs": []
    },
    {
      "cell_type": "markdown",
      "metadata": {
        "id": "VosjDZr-fGvP"
      },
      "source": [
        "# 유저 기반 협업 필터링"
      ]
    },
    {
      "cell_type": "code",
      "metadata": {
        "id": "f3rlhrs0WexN"
      },
      "source": [
        "# user별로 영화에 부여한 rating 값을 볼 수 있도록 pivot table 사용\n",
        "title_user = movie_ratings.pivot_table('rating', index='userId', columns='title')\n",
        "\n",
        "# 평점을 부여안한 영화는 그냥 0이라고 부여\n",
        "title_user = title_user.fillna(0)\n",
        "print(title_user)"
      ],
      "execution_count": null,
      "outputs": []
    },
    {
      "cell_type": "code",
      "metadata": {
        "id": "uKWlsEZVY5NW"
      },
      "source": [
        "from sklearn.metrics.pairwise import cosine_similarity\n",
        "\n",
        "# 유저 1~610 번과 유저 1~610 번 간의 코사인 유사도를 구함\n",
        "user_based_collab = cosine_similarity(title_user, title_user)\n",
        "print(user_based_collab)"
      ],
      "execution_count": null,
      "outputs": []
    },
    {
      "cell_type": "code",
      "metadata": {
        "id": "NAxfm2cMZagX"
      },
      "source": [
        "# 위는 그냥 numpy 행렬이니까, 이를 데이터프레임으로 변환\n",
        "user_based_collab = pd.DataFrame(user_based_collab, index=title_user.index, columns=title_user.index)\n",
        "print(user_based_collab)"
      ],
      "execution_count": null,
      "outputs": []
    },
    {
      "cell_type": "code",
      "metadata": {
        "id": "rqAI3nYqZ74N"
      },
      "source": [
        "# 1번 유저와 비슷한 유저를 내림차순으로 정렬한 후에, 상위 10개만 뽑음\n",
        "print(user_based_collab[1].sort_values(ascending=False)[:10])"
      ],
      "execution_count": null,
      "outputs": []
    },
    {
      "cell_type": "code",
      "metadata": {
        "id": "Z0zFt696aMv_"
      },
      "source": [
        "# 1번 유저와 가장 비슷한 266번 유저를 뽑고,\n",
        "user = user_based_collab[1].sort_values(ascending=False)[:10].index[1]\n",
        "# 266번 유저가 좋아했던 영화를 평점 내림차순으로 출력\n",
        "result = title_user.query(f\"userId == {user}\").sort_values(ascending=False, by=user, axis=1)\n",
        "print(result)"
      ],
      "execution_count": null,
      "outputs": []
    },
    {
      "cell_type": "code",
      "metadata": {
        "id": "sjYOr-79d6dD"
      },
      "source": [
        "# 만약 해당 유저가 아직 보지 않은 영화에 대해서, 평점을 예측하고자 한다면?\n",
        "# (어떤 유저와 비슷한 정도 * 그 유저가 영화에 대해 부여한 평점) 을 더해서 (유저와 비슷한 정도의 합)으로 나눠보면 됨!\n",
        "# index_list 는 비슷한 유저의 id 값 리스트 / weight_list 는 비슷한 유저와의 유사도 리스트\n",
        "user_index_list = user_based_collab[1].sort_values(ascending=False)[:10].index.tolist()\n",
        "user_weight_list = user_based_collab[1].sort_values(ascending=False)[:10].tolist()"
      ],
      "execution_count": null,
      "outputs": []
    },
    {
      "cell_type": "code",
      "source": [
        "# 1번 유저가 다크나이트를 보고 어떤 평점을 부여할지 예측\n",
        "movie_title = 'Dark Knight, The (2008)'\n",
        "weighted_sum = []\n",
        "weighted_user = []\n",
        "for i in range(1, 10):\n",
        "    # 해당 영화를 보고 평점을 부여한 사람들의 유사도와 평점만 추가 (즉, 0이 아닌 경우에만 계산에 활용)\n",
        "    if int(title_user[movie_title][user_index_list[i]]) is not 0:\n",
        "        # 평점 * 유사도 추가\n",
        "        weighted_sum.append(title_user[movie_title][user_index_list[i]] * user_weight_list[i])\n",
        "        # 유사도 추가\n",
        "        weighted_user.append(user_weight_list[i])\n",
        "\n",
        "print(weighted_sum)\n",
        "print(weighted_user)\n",
        "# 총 평점*유사도 / 총 유사도를 토대로 평점 예측\n",
        "print(sum(weighted_sum)/sum(weighted_user))"
      ],
      "metadata": {
        "id": "fxnT1WFMbEhQ"
      },
      "execution_count": null,
      "outputs": []
    },
    {
      "cell_type": "markdown",
      "metadata": {
        "id": "NEA4zy6gfFQo"
      },
      "source": [
        "# 아이템 기반 협업 필터링"
      ]
    },
    {
      "cell_type": "code",
      "metadata": {
        "id": "PlfbIufBcXuG"
      },
      "source": [
        "# 이번에는 Index에 title이 들어감!\n",
        "user_title = movie_ratings.pivot_table('rating', index='title', columns='userId')\n",
        "\n",
        "user_title = user_title.fillna(0)\n",
        "print(user_title)"
      ],
      "execution_count": null,
      "outputs": []
    },
    {
      "cell_type": "code",
      "metadata": {
        "id": "b56U3eiHcURX"
      },
      "source": [
        "from sklearn.metrics.pairwise import cosine_similarity\n",
        "\n",
        "item_based_collab = cosine_similarity(user_title, user_title)\n",
        "print(item_based_collab)"
      ],
      "execution_count": null,
      "outputs": []
    },
    {
      "cell_type": "code",
      "metadata": {
        "id": "k-pfnF8acd9O"
      },
      "source": [
        "item_based_collab = pd.DataFrame(item_based_collab, index=user_title.index, columns=user_title.index)"
      ],
      "execution_count": null,
      "outputs": []
    },
    {
      "cell_type": "code",
      "metadata": {
        "id": "bpqoi3HKcsjG"
      },
      "source": [
        "print(item_based_collab)"
      ],
      "execution_count": null,
      "outputs": []
    },
    {
      "cell_type": "code",
      "metadata": {
        "id": "4ZOVPGducs3-"
      },
      "source": [
        "# 다크나이트와 비슷하게 유저들로부터 평점을 부여받은 영화들은?\n",
        "print(item_based_collab['Dark Knight, The (2008)'].sort_values(ascending=False)[:10])"
      ],
      "execution_count": null,
      "outputs": []
    },
    {
      "cell_type": "markdown",
      "metadata": {
        "id": "0GnYG0fZkKno"
      },
      "source": [
        "# 잠재 요인 협업 필터링"
      ]
    },
    {
      "cell_type": "code",
      "metadata": {
        "id": "R9olQVdsBnx7"
      },
      "source": [
        "# surprise 라는 모듈을 사용합니다\n",
        "!pip install scikit-surprise"
      ],
      "execution_count": null,
      "outputs": []
    },
    {
      "cell_type": "code",
      "metadata": {
        "id": "bNhvRjCeBh7W"
      },
      "source": [
        "from surprise import SVD, Dataset, accuracy, Reader\n",
        "from surprise.model_selection import train_test_split"
      ],
      "execution_count": null,
      "outputs": []
    },
    {
      "cell_type": "code",
      "metadata": {
        "id": "lQEfIw3JCIei"
      },
      "source": [
        "ratings = pd.read_csv('ratings.csv')\n",
        "# 평점의 최소값, 최대값 범위를 지정해줍니다\n",
        "reader = Reader(rating_scale=(1.0, 5.0))\n",
        "# 불러온 csv 파일을 surprise 모듈을 통해 분석할 수 있도록 불러옵니다\n",
        "data = Dataset.load_from_df(df=ratings[['userId', 'movieId', 'rating']], reader=reader)"
      ],
      "execution_count": null,
      "outputs": []
    },
    {
      "cell_type": "code",
      "metadata": {
        "id": "93ZOAMwjD6AD"
      },
      "source": [
        "# 에러 계산을 위해, 테스트/트레인 셋 나눠줍니다 (3:1로 나눴습니다!)\n",
        "train, test = train_test_split(data, test_size=0.25, shuffle=True, random_state=23)\n",
        "\n",
        "# n_factors 는 잠재요인의 크기를 말하는 것\n",
        "algo = SVD(n_factors=50, n_epochs=20, random_state=23)\n",
        "# 가장 현재 데이터를 잘 설명할 수 있도록 (최적화하면서) 행렬을 분해함\n",
        "algo.fit(trainset=train)"
      ],
      "execution_count": null,
      "outputs": []
    },
    {
      "cell_type": "code",
      "metadata": {
        "id": "aWO_n2zOEQ_o"
      },
      "source": [
        "# 에러 계산\n",
        "pred = algo.test(testset=test)\n",
        "accuracy.rmse(predictions=pred)"
      ],
      "execution_count": null,
      "outputs": []
    },
    {
      "cell_type": "code",
      "metadata": {
        "id": "xGfRgHt4FJ7x"
      },
      "source": [
        "# 10번 유저가 200번 영화를 보고 부여할 평점을 예측함\n",
        "pred = algo.predict('10', '200')\n",
        "# print 했을때 나오는 r_ui 는 실제 평점 / est 는 예측 평점\n",
        "# 실제 평점이 없다면 none 이라고 표시됩니다!\n",
        "print(pred)"
      ],
      "execution_count": null,
      "outputs": []
    },
    {
      "cell_type": "code",
      "metadata": {
        "id": "wPhcBWHBFqZp"
      },
      "source": [
        "preds = []\n",
        "for i in ratings['movieId'].unique():\n",
        "    # 10번 유저에 대해서, 10번 유저가 부여할 모든 영화에 대한 평점을 예측\n",
        "    pred = algo.predict('10', i)\n",
        "    # iid 는 아이템아이디, est 는 예측한 평점값\n",
        "    preds.append((pred.est, pred.iid))"
      ],
      "execution_count": null,
      "outputs": []
    },
    {
      "cell_type": "code",
      "metadata": {
        "id": "XhWWp1bQGmej"
      },
      "source": [
        "# 10번 유저가 모든 영화에 대해 부여할 평점을 내림차순으로 정렬\n",
        "preds.sort(reverse=True)\n",
        "print(preds)"
      ],
      "execution_count": null,
      "outputs": []
    },
    {
      "cell_type": "code",
      "metadata": {
        "id": "WgWoohwiG9bB"
      },
      "source": [
        "# 위에서 확인한 영화 id를 통해서, 10번 유저가 가장 좋아하는 영화의 이름을 찾아서 출력\n",
        "movies = pd.read_csv('movies.csv')\n",
        "print(movies[movies['movieId']==318])"
      ],
      "execution_count": null,
      "outputs": []
    }
  ]
}